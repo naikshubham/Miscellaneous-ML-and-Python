{
 "cells": [
  {
   "cell_type": "markdown",
   "metadata": {},
   "source": [
    "### Code profiling for runtime\n",
    "- Detailed stats on frequency and duration of function calls\n",
    "- Line-by-line analyses\n",
    "- Package **line_profiler** : Profile a function's runtime line-by-line\n",
    "- `pip install line_profiler`"
   ]
  },
  {
   "cell_type": "code",
   "execution_count": 2,
   "metadata": {},
   "outputs": [],
   "source": [
    "import numpy as np"
   ]
  },
  {
   "cell_type": "code",
   "execution_count": 3,
   "metadata": {},
   "outputs": [
    {
     "data": {
      "text/plain": [
       "{'Batman': (74.01559999999999, 209.4389),\n",
       " 'Superman': (75.19669999999999, 222.66661999999997),\n",
       " 'Wonder Woman': (72.0471, 163.14188)}"
      ]
     },
     "execution_count": 3,
     "metadata": {},
     "output_type": "execute_result"
    }
   ],
   "source": [
    "heros = ['Batman','Superman','Wonder Woman']\n",
    "heights = np.array([188.0, 191.0, 183.0])\n",
    "weights = np.array([95.0, 101.0, 74.0])\n",
    "\n",
    "\n",
    "def convert_units(heros, heights, weights):\n",
    "    new_hts = [ht * 0.39370 for ht in heights]\n",
    "    new_wts = [wt * 2.20462 for wt in weights]\n",
    "    \n",
    "    hero_data = {}\n",
    "    \n",
    "    for i, hero in enumerate(heros):\n",
    "        hero_data[hero] = (new_hts[i], new_wts[i])\n",
    "        \n",
    "    return hero_data\n",
    "\n",
    "convert_units(heros, heights, weights)"
   ]
  },
  {
   "cell_type": "markdown",
   "metadata": {},
   "source": [
    "- If we wanted to get an estimated runtime of this function, we can use **%timeit** .But this will only gives us the total execution time.\n",
    "- What if we wanted to see how long each line within the function took to run?\n",
    "- We can profile our function with **line_profiler** package. To use this package we first need to load it into our session.\n",
    "- We can do this using the command **`%load_ext`** followed by `line_profiler`.\n",
    "- Now, we can use the magic command **`%lprun`** from `line_profiler`, to gather runtimes for individual lines of code within the `convert_units` function.\n",
    "- `lprun` uses a special syntax, first we use the **`-f`** flag to indicate we'd like to profile a function. Next, we specify the name of the function we'd like to profile.\n",
    "- Note, the name of the function is passed without any parentheses. Finally, we provide the exact function call we'd like to profile by including any arguments that are needed. **`%lprun -f convert_units convert_units(heros, heights, weights)`**\n",
    "\n",
    "### %lprun output\n",
    "- The output from **`%lprun`** provides a nice table that summarizes the profiling statistics."
   ]
  },
  {
   "cell_type": "code",
   "execution_count": 5,
   "metadata": {},
   "outputs": [],
   "source": [
    "%load_ext line_profiler\n",
    "%lprun -f convert_units convert_units(heros, heights, weights)"
   ]
  },
  {
   "cell_type": "markdown",
   "metadata": {},
   "source": [
    "### Using %lprun: fix the bottleneck\n",
    "- We profiled the `convert_units()` function and saw that the `new_hts list comprehension` could be a potential bottleneck. `new_wts list comprehension` also accounted for a similar percentage of the runtime? This is an indication that we may want to create the `new_hts and new_wts objects using a different technique`.\n",
    "- Since the height and weight of each hero is stored in a numpy array, we can use array broadcasting rather than list comprehension to convert the heights and weights."
   ]
  },
  {
   "cell_type": "code",
   "execution_count": 6,
   "metadata": {},
   "outputs": [],
   "source": [
    "def convert_units_broadcast(heroes, heights, weights):\n",
    "\n",
    "    # Array broadcasting instead of list comprehension\n",
    "    new_hts = heights * 0.39370\n",
    "    new_wts = weights * 2.20462\n",
    "\n",
    "    hero_data = {}\n",
    "\n",
    "    for i,hero in enumerate(heroes):\n",
    "        hero_data[hero] = (new_hts[i], new_wts[i])\n",
    "\n",
    "    return hero_data"
   ]
  },
  {
   "cell_type": "code",
   "execution_count": 7,
   "metadata": {},
   "outputs": [
    {
     "name": "stdout",
     "output_type": "stream",
     "text": [
      "The line_profiler extension is already loaded. To reload it, use:\n",
      "  %reload_ext line_profiler\n"
     ]
    }
   ],
   "source": [
    "%load_ext line_profiler\n",
    "%lprun -f convert_units_broadcast convert_units_broadcast(heros, heights, weights)"
   ]
  },
  {
   "cell_type": "code",
   "execution_count": null,
   "metadata": {},
   "outputs": [],
   "source": []
  }
 ],
 "metadata": {
  "kernelspec": {
   "display_name": "Python 3",
   "language": "python",
   "name": "python3"
  },
  "language_info": {
   "codemirror_mode": {
    "name": "ipython",
    "version": 3
   },
   "file_extension": ".py",
   "mimetype": "text/x-python",
   "name": "python",
   "nbconvert_exporter": "python",
   "pygments_lexer": "ipython3",
   "version": "3.7.3"
  }
 },
 "nbformat": 4,
 "nbformat_minor": 2
}
