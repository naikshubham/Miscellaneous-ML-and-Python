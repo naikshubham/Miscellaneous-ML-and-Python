{
 "cells": [
  {
   "cell_type": "markdown",
   "metadata": {},
   "source": [
    "# Decorators\n",
    "\n",
    "- A decorator is a wrapper that we can place around a function that changes that function's behavior. We can modify the inputs and outputs or even change the behaviour of the function itself."
   ]
  },
  {
   "cell_type": "code",
   "execution_count": null,
   "metadata": {},
   "outputs": [],
   "source": [
    "@double_args\n",
    "def multiply(a, b):\n",
    "    return a * b"
   ]
  },
  {
   "cell_type": "markdown",
   "metadata": {},
   "source": [
    "- `double_args` is a decorator that multiplies every argument by two before passing them to the decorated function\n",
    "- Decorators are just functions that takes a function as an argument and returns a modified version of that function."
   ]
  },
  {
   "cell_type": "code",
   "execution_count": 1,
   "metadata": {},
   "outputs": [],
   "source": [
    "def multiply(a, b):\n",
    "    return a * b\n",
    "\n",
    "def double_args(func):\n",
    "    def wrapper(a, b):\n",
    "        # call the passed in function, but double each argument\n",
    "        return func(a*2, b*2)\n",
    "    return wrapper"
   ]
  },
  {
   "cell_type": "code",
   "execution_count": 3,
   "metadata": {},
   "outputs": [
    {
     "data": {
      "text/plain": [
       "20"
      ]
     },
     "execution_count": 3,
     "metadata": {},
     "output_type": "execute_result"
    }
   ],
   "source": [
    "new_multiply = double_args(multiply)\n",
    "new_multiply(1,5)"
   ]
  },
  {
   "cell_type": "code",
   "execution_count": 4,
   "metadata": {},
   "outputs": [
    {
     "data": {
      "text/plain": [
       "20"
      ]
     },
     "execution_count": 4,
     "metadata": {},
     "output_type": "execute_result"
    }
   ],
   "source": [
    "multiply = double_args(multiply)\n",
    "multiply(1,5)"
   ]
  },
  {
   "cell_type": "markdown",
   "metadata": {},
   "source": [
    "- We can do this because python stores the **original multiply function in the new function's closure**"
   ]
  },
  {
   "cell_type": "code",
   "execution_count": 5,
   "metadata": {},
   "outputs": [],
   "source": [
    "@double_args\n",
    "def multiply(a, b):\n",
    "    return a * b"
   ]
  },
  {
   "cell_type": "markdown",
   "metadata": {},
   "source": [
    "- **@double_args** on the line above the multiply function. This is just Python convenience for saying \"multiply\" equals the value returned by calling `double_args` with \"multiply\" as the only argument."
   ]
  },
  {
   "cell_type": "markdown",
   "metadata": {},
   "source": [
    "###  Defining a decorator\n",
    "- a decorator that prints a \"before\" message before the decorated function is called and prints an \"after\" message after the decorated function is called.\n"
   ]
  },
  {
   "cell_type": "code",
   "execution_count": 6,
   "metadata": {},
   "outputs": [
    {
     "name": "stdout",
     "output_type": "stream",
     "text": [
      "Before multiply\n",
      "50\n",
      "After multiply\n"
     ]
    }
   ],
   "source": [
    "def print_before_and_after(func):\n",
    "  def wrapper(*args):\n",
    "    print('Before {}'.format(func.__name__))\n",
    "    # Call the function being decorated with *args\n",
    "    func(*args)\n",
    "    print('After {}'.format(func.__name__))\n",
    "  # Return the nested function\n",
    "  return wrapper\n",
    "\n",
    "@print_before_and_after\n",
    "def multiply(a, b):\n",
    "  print(a * b)\n",
    "\n",
    "multiply(5, 10)"
   ]
  },
  {
   "cell_type": "markdown",
   "metadata": {},
   "source": [
    "# Time a function"
   ]
  },
  {
   "cell_type": "markdown",
   "metadata": {},
   "source": [
    "- The timer() decorator runs the decorated function and then prints how long it took for the function to run.\n",
    "- `wrapper()` takes any number of positional and keyword arguments so that it can be used to decorate any function. The first thing this new function would do is record the time that it was called with the `time()` function.\n",
    "- Then wrapper() gets the result of calling the decorated function. After calling the decorated function, wrapper() checks the time again and prints the time how long it took to run the decorated function.\n",
    "- After that return the value that the decorated function calculated."
   ]
  },
  {
   "cell_type": "code",
   "execution_count": 8,
   "metadata": {},
   "outputs": [],
   "source": [
    "import time\n",
    "\n",
    "def timer(func):\n",
    "    \"\"\"A decorator that prints how long a function took to run\"\"\"\n",
    "    # define the wrapper function to return\n",
    "    def wrapper(*args, **kwargs):\n",
    "        # when wrapper() is called, get the current time\n",
    "        t_start = time.time()\n",
    "        # call the decorated function and store the result\n",
    "        result = func(*args, **kwargs)\n",
    "        # get the total time it took to run,and print it\n",
    "        t_total = time.time() - t_start\n",
    "        print('{} took {}s'.format(func.__name__, t_total))\n",
    "        return result\n",
    "    return wrapper"
   ]
  },
  {
   "cell_type": "markdown",
   "metadata": {},
   "source": [
    "## Using timer()"
   ]
  },
  {
   "cell_type": "code",
   "execution_count": 11,
   "metadata": {},
   "outputs": [
    {
     "name": "stdout",
     "output_type": "stream",
     "text": [
      "sleep_n_seconds took 5.0099756717681885s\n",
      "sleep_n_seconds took 10.010277509689331s\n"
     ]
    }
   ],
   "source": [
    "@timer\n",
    "def sleep_n_seconds(n):\n",
    "    time.sleep(n)\n",
    "    \n",
    "sleep_n_seconds(5)\n",
    "\n",
    "sleep_n_seconds(10)"
   ]
  },
  {
   "cell_type": "markdown",
   "metadata": {},
   "source": [
    "## Memoize\n",
    "- Memoizing is the process of storing the results of a function so that the next time the function is called with the same arguments; we can just look up the answer.\n",
    "- Start by setting up a dictionary that will map arguments to results.\n",
    "- Then, as usual create a `wrapper` to  be the new decorated function that this decorator returns\n",
    "- When the new function gets called, it checks to see whether it has seen these arguments before. If haven't then its send to  the decorated function and store the result in the \"cache\" dictionary\n",
    "- Next time the function is called with the same arguments, the return value will already be in the dictionary"
   ]
  },
  {
   "cell_type": "code",
   "execution_count": 22,
   "metadata": {},
   "outputs": [],
   "source": [
    "def memoize(func):\n",
    "    \"\"\"store the results of the decorated function for fast lookup\"\"\"\n",
    "    # store results in a dict that maps arguments to results\n",
    "    cache = {}\n",
    "    # define the wrapper function to return\n",
    "    def wrapper(*args, **kwargs):\n",
    "        # if these arguments haven't been seen before\n",
    "        print(args, kwargs)\n",
    "        if (args) not in cache:\n",
    "            # call func() and store the result\n",
    "            cache[(args)] = func(*args, **kwargs)\n",
    "            print(cache)\n",
    "        return cache[(args)]\n",
    "    return wrapper"
   ]
  },
  {
   "cell_type": "code",
   "execution_count": 23,
   "metadata": {},
   "outputs": [
    {
     "name": "stdout",
     "output_type": "stream",
     "text": [
      "(3, 4) {}\n",
      "sleeping........\n",
      "{(3, 4): 7}\n"
     ]
    },
    {
     "data": {
      "text/plain": [
       "7"
      ]
     },
     "execution_count": 23,
     "metadata": {},
     "output_type": "execute_result"
    }
   ],
   "source": [
    "@memoize\n",
    "def slow_function(a, b):\n",
    "    print('sleeping........')\n",
    "    time.sleep(5)\n",
    "    return a + b\n",
    "slow_function(3, 4)"
   ]
  },
  {
   "cell_type": "code",
   "execution_count": 24,
   "metadata": {},
   "outputs": [
    {
     "name": "stdout",
     "output_type": "stream",
     "text": [
      "(3, 4) {}\n"
     ]
    },
    {
     "data": {
      "text/plain": [
       "7"
      ]
     },
     "execution_count": 24,
     "metadata": {},
     "output_type": "execute_result"
    }
   ],
   "source": [
    "slow_function(3, 4)"
   ]
  },
  {
   "cell_type": "markdown",
   "metadata": {},
   "source": [
    "# When to use decorator\n",
    "- When we want to add some common lines of code to multiple functions"
   ]
  },
  {
   "cell_type": "markdown",
   "metadata": {},
   "source": [
    "## Print the return type : decorator\n",
    "-  if we expect a function to return a numpy array, but it returns a list, we can get unexpected behavior. To ensure this is not what is causing the trouble, we write a decorator, **`print_return_type(), that will print out the type of the variable that gets returned from every call of any function it is decorating.`**"
   ]
  },
  {
   "cell_type": "code",
   "execution_count": 1,
   "metadata": {},
   "outputs": [
    {
     "name": "stdout",
     "output_type": "stream",
     "text": [
      "foo() returned type <class 'int'>\n",
      "42\n",
      "foo() returned type <class 'list'>\n",
      "[1, 2, 3]\n",
      "foo() returned type <class 'dict'>\n",
      "{'a': 42}\n"
     ]
    }
   ],
   "source": [
    "def print_return_type(func):\n",
    "  # Define wrapper(), the decorated function\n",
    "    def wrapper(*args, **kwargs):\n",
    "        # Call the function being decorated\n",
    "        result = func(*args, **kwargs)\n",
    "        print('{}() returned type {}'.format(\n",
    "          func.__name__, type(result)\n",
    "        ))\n",
    "        return result\n",
    "    # Return the decorated function\n",
    "    return wrapper\n",
    "  \n",
    "@print_return_type\n",
    "def foo(value):\n",
    "    return value\n",
    "  \n",
    "print(foo(42))\n",
    "print(foo([1, 2, 3]))\n",
    "print(foo({'a': 42}))"
   ]
  },
  {
   "cell_type": "markdown",
   "metadata": {},
   "source": [
    "##### It seems a little magical that we can reference the wrapper() function from inside the definition of wrapper() . That's just one of the many neat things about functions in Python -- any function, not just decorators."
   ]
  },
  {
   "cell_type": "code",
   "execution_count": null,
   "metadata": {},
   "outputs": [],
   "source": []
  }
 ],
 "metadata": {
  "kernelspec": {
   "display_name": "Python 3",
   "language": "python",
   "name": "python3"
  },
  "language_info": {
   "codemirror_mode": {
    "name": "ipython",
    "version": 3
   },
   "file_extension": ".py",
   "mimetype": "text/x-python",
   "name": "python",
   "nbconvert_exporter": "python",
   "pygments_lexer": "ipython3",
   "version": "3.7.3"
  }
 },
 "nbformat": 4,
 "nbformat_minor": 2
}
