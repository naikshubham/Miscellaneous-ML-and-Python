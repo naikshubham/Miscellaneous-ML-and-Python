{
 "cells": [
  {
   "cell_type": "markdown",
   "metadata": {},
   "source": [
    "## Eliminating loops\n",
    "- Although using loops is not a bad design pattern, using extraneous loops can be inefficient and costly.\n",
    "\n",
    "### Looping in Python\n",
    "- Python comes with a few looping patterns that can be used when we want to iterate over an object's contents.\n",
    "- List comprehension\n",
    "\n",
    "### Eliminating loops with built-in modules\n",
    "\n",
    "```python\n",
    "totals_comp = [sum(row) for row in poke_stats]\n",
    "\n",
    "# built in map() function\n",
    "totals_map = [*map(sum, poke_stats)]\n",
    "```\n",
    "\n",
    "```python\n",
    "poke_types = ['Bug','Fire','Ghost','Grass','Water']\n",
    "\n",
    "# nested for loop approach\n",
    "combos = []\n",
    "for x in poke_types:\n",
    "    for y in poke_types:\n",
    "        if x==y:\n",
    "            continue\n",
    "        if ((x,y) in combos) & ((y, x) not in combos):\n",
    "            combos.append((x,y))\n",
    "\n",
    "# Built-in module approach\n",
    "from itertools import combinations\n",
    "combos2 = [*combinations(poke_types, 2)]\n",
    "```\n",
    "\n",
    "### Eliminate loops with Numpy\n",
    "\n",
    "```python\n",
    "import numpy as np\n",
    "\n",
    "poke_stats = np.array([\n",
    "    [90, 92, 75, 60],\n",
    "    [25, 20, 15, 90],\n",
    "    [65, 130, 60, 75],\n",
    "])\n",
    "\n",
    "# numpy arrays allow us to perform calculations on entire arrays all at once\n",
    "\n",
    "avgs_np = poke_stats.mean(axis=1)\n",
    "```\n",
    "\n",
    "\n",
    "\n",
    "\n"
   ]
  },
  {
   "cell_type": "code",
   "execution_count": 26,
   "metadata": {},
   "outputs": [
    {
     "data": {
      "text/plain": [
       "[10, 18]"
      ]
     },
     "execution_count": 26,
     "metadata": {},
     "output_type": "execute_result"
    }
   ],
   "source": [
    "l = [[1,2,3,4],[3,4,5,6]]\n",
    "l1 = [*map(sum,l)]\n",
    "l1"
   ]
  },
  {
   "cell_type": "markdown",
   "metadata": {},
   "source": [
    "### Writing better loops\n",
    "- Understand what is being done with each loop iteration\n",
    "- Move one time calc outside(above) the loop\n",
    "- Use holistic conversions outside(below) the loop : If a loop is converting data types with each iteration, it's possible that this conversion can be done outside(or below) the loop using a map function.\n",
    "- Anything that can be done once should be moved outside of a loop."
   ]
  }
 ],
 "metadata": {
  "kernelspec": {
   "display_name": "Python 3",
   "language": "python",
   "name": "python3"
  },
  "language_info": {
   "codemirror_mode": {
    "name": "ipython",
    "version": 3
   },
   "file_extension": ".py",
   "mimetype": "text/x-python",
   "name": "python",
   "nbconvert_exporter": "python",
   "pygments_lexer": "ipython3",
   "version": "3.7.3"
  }
 },
 "nbformat": 4,
 "nbformat_minor": 2
}
